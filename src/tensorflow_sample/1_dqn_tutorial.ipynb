{
 "cells": [
  {
   "cell_type": "markdown",
   "metadata": {
    "colab_type": "text",
    "id": "klGNgWREsvQv"
   },
   "source": [
    "##### Copyright 2021 The TF-Agents Authors."
   ]
  },
  {
   "cell_type": "code",
   "execution_count": 1,
   "metadata": {
    "cellView": "form",
    "colab": {},
    "colab_type": "code",
    "execution": {
     "iopub.execute_input": "2021-01-06T12:40:04.531362Z",
     "iopub.status.busy": "2021-01-06T12:40:04.530277Z",
     "iopub.status.idle": "2021-01-06T12:40:04.533062Z",
     "shell.execute_reply": "2021-01-06T12:40:04.532570Z"
    },
    "id": "nQnmcm0oI1Q-"
   },
   "outputs": [],
   "source": [
    "#@title Licensed under the Apache License, Version 2.0 (the \"License\");\n",
    "# you may not use this file except in compliance with the License.\n",
    "# You may obtain a copy of the License at\n",
    "#\n",
    "# https://www.apache.org/licenses/LICENSE-2.0\n",
    "#\n",
    "# Unless required by applicable law or agreed to in writing, software\n",
    "# distributed under the License is distributed on an \"AS IS\" BASIS,\n",
    "# WITHOUT WARRANTIES OR CONDITIONS OF ANY KIND, either express or implied.\n",
    "# See the License for the specific language governing permissions and\n",
    "# limitations under the License."
   ]
  },
  {
   "cell_type": "markdown",
   "metadata": {
    "colab_type": "text",
    "id": "pmDI-h7cI0tI"
   },
   "source": [
    "# Train a Deep Q Network with TF-Agents\n",
    "\n",
    "<table class=\"tfo-notebook-buttons\" align=\"left\">\n",
    "  <td>\n",
    "    <a target=\"_blank\" href=\"https://www.tensorflow.org/agents/tutorials/1_dqn_tutorial\">\n",
    "    <img src=\"https://www.tensorflow.org/images/tf_logo_32px.png\" />\n",
    "    View on TensorFlow.org</a>\n",
    "  </td>\n",
    "  <td>\n",
    "    <a target=\"_blank\" href=\"https://colab.research.google.com/github/tensorflow/agents/blob/master/docs/tutorials/1_dqn_tutorial.ipynb\">\n",
    "    <img src=\"https://www.tensorflow.org/images/colab_logo_32px.png\" />\n",
    "    Run in Google Colab</a>\n",
    "  </td>\n",
    "  <td>\n",
    "    <a target=\"_blank\" href=\"https://github.com/tensorflow/agents/blob/master/docs/tutorials/1_dqn_tutorial.ipynb\">\n",
    "    <img src=\"https://www.tensorflow.org/images/GitHub-Mark-32px.png\" />\n",
    "    View source on GitHub</a>\n",
    "  </td>\n",
    "  <td>\n",
    "    <a href=\"https://storage.googleapis.com/tensorflow_docs/agents/docs/tutorials/1_dqn_tutorial.ipynb\"><img src=\"https://www.tensorflow.org/images/download_logo_32px.png\" />Download notebook</a>\n",
    "  </td>\n",
    "</table>"
   ]
  },
  {
   "cell_type": "markdown",
   "metadata": {
    "colab_type": "text",
    "id": "lsaQlK8fFQqH"
   },
   "source": [
    "## Introduction\n"
   ]
  },
  {
   "cell_type": "markdown",
   "metadata": {
    "colab_type": "text",
    "id": "cKOCZlhUgXVK"
   },
   "source": [
    "This example shows how to train a [DQN (Deep Q Networks)](https://storage.googleapis.com/deepmind-media/dqn/DQNNaturePaper.pdf)  agent on the Cartpole environment using the TF-Agents library.\n",
    "\n",
    "![Cartpole environment](https://raw.githubusercontent.com/tensorflow/agents/master/docs/tutorials/images/cartpole.png)\n",
    "\n",
    "It will walk you through all the components in a Reinforcement Learning (RL) pipeline for training, evaluation and data collection.\n",
    "\n",
    "\n",
    "To run this code live, click the 'Run in Google Colab' link above.\n"
   ]
  },
  {
   "cell_type": "markdown",
   "metadata": {
    "colab_type": "text",
    "id": "1u9QVVsShC9X"
   },
   "source": [
    "## Setup"
   ]
  },
  {
   "cell_type": "markdown",
   "metadata": {
    "colab_type": "text",
    "id": "kNrNXKI7bINP"
   },
   "source": [
    "If you haven't installed the following dependencies, run:"
   ]
  },
  {
   "cell_type": "code",
   "execution_count": 2,
   "metadata": {
    "colab": {},
    "colab_type": "code",
    "execution": {
     "iopub.execute_input": "2021-01-06T12:40:04.544835Z",
     "iopub.status.busy": "2021-01-06T12:40:04.541758Z",
     "iopub.status.idle": "2021-01-06T12:40:14.973611Z",
     "shell.execute_reply": "2021-01-06T12:40:14.972989Z"
    },
    "id": "KEHR2Ui-lo8O"
   },
   "outputs": [
    {
     "output_type": "stream",
     "name": "stdout",
     "text": [
      "[sudo] password for nhan2: \n"
     ]
    }
   ],
   "source": [
    "!sudo apt-get install -y xvfb ffmpeg\n",
    "!pip install -q 'imageio==2.4.0'\n",
    "!pip install -q pyvirtualdisplay\n",
    "!pip install -q tf-agents"
   ]
  },
  {
   "cell_type": "code",
   "execution_count": 1,
   "metadata": {
    "colab": {},
    "colab_type": "code",
    "execution": {
     "iopub.execute_input": "2021-01-06T12:40:14.980957Z",
     "iopub.status.busy": "2021-01-06T12:40:14.980229Z",
     "iopub.status.idle": "2021-01-06T12:40:22.309900Z",
     "shell.execute_reply": "2021-01-06T12:40:22.309200Z"
    },
    "id": "sMitx5qSgJk1"
   },
   "outputs": [],
   "source": [
    "from __future__ import absolute_import, division, print_function\n",
    "\n",
    "import base64\n",
    "import imageio\n",
    "import IPython\n",
    "import matplotlib\n",
    "import matplotlib.pyplot as plt\n",
    "import numpy as np\n",
    "import PIL.Image\n",
    "import pyvirtualdisplay\n",
    "\n",
    "import tensorflow as tf\n",
    "\n",
    "from tf_agents.agents.dqn import dqn_agent\n",
    "from tf_agents.drivers import dynamic_step_driver\n",
    "from tf_agents.environments import suite_gym\n",
    "from tf_agents.environments import tf_py_environment\n",
    "from tf_agents.eval import metric_utils\n",
    "from tf_agents.metrics import tf_metrics\n",
    "from tf_agents.networks import q_network\n",
    "from tf_agents.policies import random_tf_policy\n",
    "from tf_agents.replay_buffers import tf_uniform_replay_buffer\n",
    "from tf_agents.trajectories import trajectory\n",
    "from tf_agents.utils import common"
   ]
  },
  {
   "cell_type": "code",
   "execution_count": 2,
   "metadata": {
    "colab": {},
    "colab_type": "code",
    "execution": {
     "iopub.execute_input": "2021-01-06T12:40:22.321630Z",
     "iopub.status.busy": "2021-01-06T12:40:22.320795Z",
     "iopub.status.idle": "2021-01-06T12:40:22.389698Z",
     "shell.execute_reply": "2021-01-06T12:40:22.389068Z"
    },
    "id": "J6HsdS5GbSjd"
   },
   "outputs": [],
   "source": [
    "tf.compat.v1.enable_v2_behavior()\n",
    "\n",
    "# Set up a virtual display for rendering OpenAI gym environments.\n",
    "display = pyvirtualdisplay.Display(visible=0, size=(1400, 900)).start()"
   ]
  },
  {
   "cell_type": "code",
   "execution_count": 3,
   "metadata": {
    "colab": {},
    "colab_type": "code",
    "execution": {
     "iopub.execute_input": "2021-01-06T12:40:22.396741Z",
     "iopub.status.busy": "2021-01-06T12:40:22.395911Z",
     "iopub.status.idle": "2021-01-06T12:40:22.399922Z",
     "shell.execute_reply": "2021-01-06T12:40:22.400376Z"
    },
    "id": "NspmzG4nP3b9"
   },
   "outputs": [
    {
     "output_type": "execute_result",
     "data": {
      "text/plain": [
       "'2.4.0'"
      ]
     },
     "metadata": {},
     "execution_count": 3
    }
   ],
   "source": [
    "tf.version.VERSION"
   ]
  },
  {
   "cell_type": "markdown",
   "metadata": {
    "colab_type": "text",
    "id": "LmC0NDhdLIKY"
   },
   "source": [
    "## Hyperparameters"
   ]
  },
  {
   "cell_type": "code",
   "execution_count": 4,
   "metadata": {
    "colab": {},
    "colab_type": "code",
    "execution": {
     "iopub.execute_input": "2021-01-06T12:40:22.405283Z",
     "iopub.status.busy": "2021-01-06T12:40:22.404444Z",
     "iopub.status.idle": "2021-01-06T12:40:22.407245Z",
     "shell.execute_reply": "2021-01-06T12:40:22.406699Z"
    },
    "id": "HC1kNrOsLSIZ"
   },
   "outputs": [],
   "source": [
    "num_iterations = 20000 # @param {type:\"integer\"}\n",
    "\n",
    "initial_collect_steps = 100  # @param {type:\"integer\"} \n",
    "collect_steps_per_iteration = 1  # @param {type:\"integer\"}\n",
    "replay_buffer_max_length = 100000  # @param {type:\"integer\"}\n",
    "\n",
    "batch_size = 64  # @param {type:\"integer\"}\n",
    "learning_rate = 1e-3  # @param {type:\"number\"}\n",
    "log_interval = 200  # @param {type:\"integer\"}\n",
    "\n",
    "num_eval_episodes = 10  # @param {type:\"integer\"}\n",
    "eval_interval = 1000  # @param {type:\"integer\"}"
   ]
  },
  {
   "cell_type": "markdown",
   "metadata": {
    "colab_type": "text",
    "id": "VMsJC3DEgI0x"
   },
   "source": [
    "## Environment\n",
    "\n",
    "In Reinforcement Learning (RL), an environment represents the task or problem to be solved. Standard environments can be created in TF-Agents using `tf_agents.environments` suites. TF-Agents has suites for loading environments from sources such as the OpenAI Gym, Atari, and DM Control.\n",
    "\n",
    "Load the CartPole environment from the OpenAI Gym suite. "
   ]
  },
  {
   "cell_type": "code",
   "execution_count": 5,
   "metadata": {
    "colab": {},
    "colab_type": "code",
    "execution": {
     "iopub.execute_input": "2021-01-06T12:40:22.411850Z",
     "iopub.status.busy": "2021-01-06T12:40:22.411133Z",
     "iopub.status.idle": "2021-01-06T12:40:22.420849Z",
     "shell.execute_reply": "2021-01-06T12:40:22.420204Z"
    },
    "id": "pYEz-S9gEv2-"
   },
   "outputs": [],
   "source": [
    "env_name = 'CartPole-v0'\n",
    "env = suite_gym.load(env_name)"
   ]
  },
  {
   "cell_type": "markdown",
   "metadata": {
    "colab_type": "text",
    "id": "IIHYVBkuvPNw"
   },
   "source": [
    "You can render this environment to see how it looks. A free-swinging pole is attached to a cart.  The goal is to move the cart right or left in order to keep the pole pointing up."
   ]
  },
  {
   "cell_type": "code",
   "execution_count": 6,
   "metadata": {
    "colab": {},
    "colab_type": "code",
    "execution": {
     "iopub.execute_input": "2021-01-06T12:40:22.427550Z",
     "iopub.status.busy": "2021-01-06T12:40:22.426780Z",
     "iopub.status.idle": "2021-01-06T12:40:22.953161Z",
     "shell.execute_reply": "2021-01-06T12:40:22.952405Z"
    },
    "id": "RlO7WIQHu_7D"
   },
   "outputs": [
    {
     "output_type": "execute_result",
     "data": {
      "text/plain": [
       "<PIL.Image.Image image mode=RGB size=600x400 at 0x7F29B1A5FF98>"
      ],
      "image/png": "[encoded data removed]"
     },
     "metadata": {},
     "execution_count": 6
    }
   ],
   "source": [
    "#@test {\"skip\": true}\n",
    "env.reset()\n",
    "PIL.Image.fromarray(env.render())"
   ]
  },
  {
   "cell_type": "markdown",
   "metadata": {
    "colab_type": "text",
    "id": "B9_lskPOey18"
   },
   "source": [
    "The `environment.step` method takes an `action` in the environment and returns a `TimeStep` tuple containing the next observation of the environment and the reward for the action.\n",
    "\n",
    "The `time_step_spec()` method returns the specification for the `TimeStep` tuple. Its `observation` attribute shows the shape of observations, the data types, and the ranges of allowed values. The `reward` attribute shows the same details for the reward.\n"
   ]
  },
  {
   "cell_type": "code",
   "execution_count": 7,
   "metadata": {
    "colab": {},
    "colab_type": "code",
    "execution": {
     "iopub.execute_input": "2021-01-06T12:40:22.963594Z",
     "iopub.status.busy": "2021-01-06T12:40:22.962705Z",
     "iopub.status.idle": "2021-01-06T12:40:22.966468Z",
     "shell.execute_reply": "2021-01-06T12:40:22.965914Z"
    },
    "id": "exDv57iHfwQV"
   },
   "outputs": [
    {
     "output_type": "stream",
     "name": "stdout",
     "text": [
      "Observation Spec:\nBoundedArraySpec(shape=(4,), dtype=dtype('float32'), name='observation', minimum=[-4.8000002e+00 -3.4028235e+38 -4.1887903e-01 -3.4028235e+38], maximum=[4.8000002e+00 3.4028235e+38 4.1887903e-01 3.4028235e+38])\n"
     ]
    }
   ],
   "source": [
    "print('Observation Spec:')\n",
    "print(env.time_step_spec().observation)"
   ]
  },
  {
   "cell_type": "code",
   "execution_count": 8,
   "metadata": {
    "colab": {},
    "colab_type": "code",
    "execution": {
     "iopub.execute_input": "2021-01-06T12:40:22.971799Z",
     "iopub.status.busy": "2021-01-06T12:40:22.970892Z",
     "iopub.status.idle": "2021-01-06T12:40:22.973591Z",
     "shell.execute_reply": "2021-01-06T12:40:22.974037Z"
    },
    "id": "UxiSyCbBUQPi"
   },
   "outputs": [
    {
     "output_type": "stream",
     "name": "stdout",
     "text": [
      "Reward Spec:\nArraySpec(shape=(), dtype=dtype('float32'), name='reward')\n"
     ]
    }
   ],
   "source": [
    "print('Reward Spec:')\n",
    "print(env.time_step_spec().reward)"
   ]
  },
  {
   "cell_type": "markdown",
   "metadata": {
    "colab_type": "text",
    "id": "b_lHcIcqUaqB"
   },
   "source": [
    "The `action_spec()` method returns the shape, data types, and allowed values of valid actions."
   ]
  },
  {
   "cell_type": "code",
   "execution_count": 9,
   "metadata": {
    "colab": {},
    "colab_type": "code",
    "execution": {
     "iopub.execute_input": "2021-01-06T12:40:22.978652Z",
     "iopub.status.busy": "2021-01-06T12:40:22.977799Z",
     "iopub.status.idle": "2021-01-06T12:40:22.980763Z",
     "shell.execute_reply": "2021-01-06T12:40:22.981236Z"
    },
    "id": "bttJ4uxZUQBr"
   },
   "outputs": [
    {
     "output_type": "stream",
     "name": "stdout",
     "text": [
      "Action Spec:\nBoundedArraySpec(shape=(), dtype=dtype('int64'), name='action', minimum=0, maximum=1)\n"
     ]
    }
   ],
   "source": [
    "print('Action Spec:')\n",
    "print(env.action_spec())"
   ]
  },
  {
   "cell_type": "markdown",
   "metadata": {
    "colab_type": "text",
    "id": "eJCgJnx3g0yY"
   },
   "source": [
    "In the Cartpole environment:\n",
    "\n",
    "-   `observation` is an array of 4 floats: \n",
    "    -   the position and velocity of the cart\n",
    "    -   the angular position and velocity of the pole \n",
    "-   `reward` is a scalar float value\n",
    "-   `action` is a scalar integer with only two possible values:\n",
    "    -   `0` — \"move left\"\n",
    "    -   `1` — \"move right\"\n"
   ]
  },
  {
   "cell_type": "code",
   "execution_count": 10,
   "metadata": {
    "colab": {},
    "colab_type": "code",
    "execution": {
     "iopub.execute_input": "2021-01-06T12:40:22.991256Z",
     "iopub.status.busy": "2021-01-06T12:40:22.990324Z",
     "iopub.status.idle": "2021-01-06T12:40:22.994100Z",
     "shell.execute_reply": "2021-01-06T12:40:22.993567Z"
    },
    "id": "V2UGR5t_iZX-"
   },
   "outputs": [
    {
     "output_type": "stream",
     "name": "stdout",
     "text": [
      "Time step:\nTimeStep(step_type=array(0, dtype=int32), reward=array(0., dtype=float32), discount=array(1., dtype=float32), observation=array([ 0.03788827, -0.02077319,  0.0069731 ,  0.02406315], dtype=float32))\nNext time step:\nTimeStep(step_type=array(1, dtype=int32), reward=array(1., dtype=float32), discount=array(1., dtype=float32), observation=array([ 0.03747281,  0.17424807,  0.00745436, -0.26641154], dtype=float32))\n"
     ]
    }
   ],
   "source": [
    "time_step = env.reset()\n",
    "print('Time step:')\n",
    "print(time_step)\n",
    "\n",
    "action = np.array(1, dtype=np.int32)\n",
    "\n",
    "next_time_step = env.step(action)\n",
    "print('Next time step:')\n",
    "print(next_time_step)"
   ]
  },
  {
   "cell_type": "markdown",
   "metadata": {
    "colab_type": "text",
    "id": "4JSc9GviWUBK"
   },
   "source": [
    "Usually two environments are instantiated: one for training and one for evaluation. "
   ]
  },
  {
   "cell_type": "code",
   "execution_count": 11,
   "metadata": {
    "colab": {},
    "colab_type": "code",
    "execution": {
     "iopub.execute_input": "2021-01-06T12:40:23.001219Z",
     "iopub.status.busy": "2021-01-06T12:40:23.000324Z",
     "iopub.status.idle": "2021-01-06T12:40:23.002900Z",
     "shell.execute_reply": "2021-01-06T12:40:23.002414Z"
    },
    "id": "N7brXNIGWXjC"
   },
   "outputs": [],
   "source": [
    "train_py_env = suite_gym.load(env_name)\n",
    "eval_py_env = suite_gym.load(env_name)"
   ]
  },
  {
   "cell_type": "markdown",
   "metadata": {
    "colab_type": "text",
    "id": "zuUqXAVmecTU"
   },
   "source": [
    "The Cartpole environment, like most environments, is written in pure Python. This is converted to TensorFlow using the `TFPyEnvironment` wrapper.\n",
    "\n",
    "The original environment's API uses Numpy arrays. The `TFPyEnvironment` converts these to `Tensors` to make it compatible with Tensorflow agents and policies.\n"
   ]
  },
  {
   "cell_type": "code",
   "execution_count": 12,
   "metadata": {
    "colab": {},
    "colab_type": "code",
    "execution": {
     "iopub.execute_input": "2021-01-06T12:40:23.008138Z",
     "iopub.status.busy": "2021-01-06T12:40:23.007466Z",
     "iopub.status.idle": "2021-01-06T12:40:23.017045Z",
     "shell.execute_reply": "2021-01-06T12:40:23.016491Z"
    },
    "id": "Xp-Y4mD6eDhF"
   },
   "outputs": [],
   "source": [
    "train_env = tf_py_environment.TFPyEnvironment(train_py_env)\n",
    "eval_env = tf_py_environment.TFPyEnvironment(eval_py_env)"
   ]
  },
  {
   "cell_type": "markdown",
   "metadata": {
    "colab_type": "text",
    "id": "E9lW_OZYFR8A"
   },
   "source": [
    "## Agent\n",
    "\n",
    "The algorithm used to solve an RL problem is represented by an `Agent`. TF-Agents provides standard implementations of a variety of `Agents`, including:\n",
    "\n",
    "-   [DQN](https://storage.googleapis.com/deepmind-media/dqn/DQNNaturePaper.pdf) (used in this tutorial)\n",
    "-   [REINFORCE](https://www-anw.cs.umass.edu/~barto/courses/cs687/williams92simple.pdf)\n",
    "-   [DDPG](https://arxiv.org/pdf/1509.02971.pdf)\n",
    "-   [TD3](https://arxiv.org/pdf/1802.09477.pdf)\n",
    "-   [PPO](https://arxiv.org/abs/1707.06347)\n",
    "-   [SAC](https://arxiv.org/abs/1801.01290).\n",
    "\n",
    "The DQN agent can be used in any environment which has a discrete action space.\n",
    "\n",
    "At the heart of a DQN Agent is a `QNetwork`, a neural network model that can learn to predict `QValues` (expected returns) for all actions, given an observation from the environment.\n",
    "\n",
    "Use `tf_agents.networks.q_network` to create a `QNetwork`, passing in the `observation_spec`, `action_spec`, and a tuple describing the number and size of the model's hidden layers.\n"
   ]
  },
  {
   "cell_type": "code",
   "execution_count": 13,
   "metadata": {
    "colab": {},
    "colab_type": "code",
    "execution": {
     "iopub.execute_input": "2021-01-06T12:40:23.022134Z",
     "iopub.status.busy": "2021-01-06T12:40:23.021400Z",
     "iopub.status.idle": "2021-01-06T12:40:23.059058Z",
     "shell.execute_reply": "2021-01-06T12:40:23.058413Z"
    },
    "id": "TgkdEPg_muzV"
   },
   "outputs": [],
   "source": [
    "fc_layer_params = (100,)\n",
    "\n",
    "q_net = q_network.QNetwork(\n",
    "    train_env.observation_spec(),\n",
    "    train_env.action_spec(),\n",
    "    fc_layer_params=fc_layer_params)"
   ]
  },
  {
   "cell_type": "markdown",
   "metadata": {
    "colab_type": "text",
    "id": "z62u55hSmviJ"
   },
   "source": [
    "Now use `tf_agents.agents.dqn.dqn_agent` to instantiate a `DqnAgent`. In addition to the `time_step_spec`, `action_spec` and the QNetwork, the agent constructor also requires an optimizer (in this case, `AdamOptimizer`), a loss function, and an integer step counter."
   ]
  },
  {
   "cell_type": "code",
   "execution_count": 14,
   "metadata": {
    "colab": {},
    "colab_type": "code",
    "execution": {
     "iopub.execute_input": "2021-01-06T12:40:24.490822Z",
     "iopub.status.busy": "2021-01-06T12:40:24.490006Z",
     "iopub.status.idle": "2021-01-06T12:40:25.246838Z",
     "shell.execute_reply": "2021-01-06T12:40:25.246111Z"
    },
    "id": "jbY4yrjTEyc9"
   },
   "outputs": [],
   "source": [
    "optimizer = tf.compat.v1.train.AdamOptimizer(learning_rate=learning_rate)\n",
    "\n",
    "train_step_counter = tf.Variable(0)\n",
    "\n",
    "agent = dqn_agent.DqnAgent(\n",
    "    train_env.time_step_spec(),\n",
    "    train_env.action_spec(),\n",
    "    q_network=q_net,\n",
    "    optimizer=optimizer,\n",
    "    td_errors_loss_fn=common.element_wise_squared_loss,\n",
    "    train_step_counter=train_step_counter)\n",
    "\n",
    "agent.initialize()"
   ]
  },
  {
   "cell_type": "markdown",
   "metadata": {
    "colab_type": "text",
    "id": "I0KLrEPwkn5x"
   },
   "source": [
    "## Policies\n",
    "\n",
    "A policy defines the way an agent acts in an environment. Typically, the goal of reinforcement learning is to train the underlying model until the policy produces the desired outcome.\n",
    "\n",
    "In this tutorial:\n",
    "\n",
    "-   The desired outcome is keeping the pole balanced upright over the cart.\n",
    "-   The policy returns an action (left or right) for each `time_step` observation.\n",
    "\n",
    "Agents contain two policies: \n",
    "\n",
    "-   `agent.policy` — The main policy that is used for evaluation and deployment.\n",
    "-   `agent.collect_policy` — A second policy that is used for data collection.\n"
   ]
  },
  {
   "cell_type": "code",
   "execution_count": 15,
   "metadata": {
    "colab": {},
    "colab_type": "code",
    "execution": {
     "iopub.execute_input": "2021-01-06T12:40:25.251368Z",
     "iopub.status.busy": "2021-01-06T12:40:25.250660Z",
     "iopub.status.idle": "2021-01-06T12:40:25.252306Z",
     "shell.execute_reply": "2021-01-06T12:40:25.252716Z"
    },
    "id": "BwY7StuMkuV4"
   },
   "outputs": [],
   "source": [
    "eval_policy = agent.policy\n",
    "collect_policy = agent.collect_policy"
   ]
  },
  {
   "cell_type": "markdown",
   "metadata": {
    "colab_type": "text",
    "id": "2Qs1Fl3dV0ae"
   },
   "source": [
    "Policies can be created independently of agents. For example, use `tf_agents.policies.random_tf_policy` to create a policy which will randomly select an action for each `time_step`."
   ]
  },
  {
   "cell_type": "code",
   "execution_count": 16,
   "metadata": {
    "colab": {},
    "colab_type": "code",
    "execution": {
     "iopub.execute_input": "2021-01-06T12:40:25.257145Z",
     "iopub.status.busy": "2021-01-06T12:40:25.256504Z",
     "iopub.status.idle": "2021-01-06T12:40:25.258549Z",
     "shell.execute_reply": "2021-01-06T12:40:25.258047Z"
    },
    "id": "HE37-UCIrE69"
   },
   "outputs": [],
   "source": [
    "random_policy = random_tf_policy.RandomTFPolicy(train_env.time_step_spec(),\n",
    "                                                train_env.action_spec())"
   ]
  },
  {
   "cell_type": "markdown",
   "metadata": {
    "colab_type": "text",
    "id": "dOlnlRRsUbxP"
   },
   "source": [
    "To get an action from a policy, call the `policy.action(time_step)` method. The `time_step` contains the observation from the environment. This method returns a `PolicyStep`, which is a named tuple with three components:\n",
    "\n",
    "-   `action` — the action to be taken (in this case, `0` or `1`)\n",
    "-   `state` — used for stateful (that is, RNN-based) policies\n",
    "-   `info` — auxiliary data, such as log probabilities of actions"
   ]
  },
  {
   "cell_type": "code",
   "execution_count": 17,
   "metadata": {
    "colab": {},
    "colab_type": "code",
    "execution": {
     "iopub.execute_input": "2021-01-06T12:40:25.264391Z",
     "iopub.status.busy": "2021-01-06T12:40:25.263741Z",
     "iopub.status.idle": "2021-01-06T12:40:25.267029Z",
     "shell.execute_reply": "2021-01-06T12:40:25.266532Z"
    },
    "id": "5gCcpXswVAxk"
   },
   "outputs": [],
   "source": [
    "example_environment = tf_py_environment.TFPyEnvironment(\n",
    "    suite_gym.load('CartPole-v0'))"
   ]
  },
  {
   "cell_type": "code",
   "execution_count": 18,
   "metadata": {
    "colab": {},
    "colab_type": "code",
    "execution": {
     "iopub.execute_input": "2021-01-06T12:40:25.271802Z",
     "iopub.status.busy": "2021-01-06T12:40:25.271129Z",
     "iopub.status.idle": "2021-01-06T12:40:25.274307Z",
     "shell.execute_reply": "2021-01-06T12:40:25.273790Z"
    },
    "id": "D4DHZtq3Ndis"
   },
   "outputs": [],
   "source": [
    "time_step = example_environment.reset()"
   ]
  },
  {
   "cell_type": "code",
   "execution_count": 19,
   "metadata": {
    "colab": {},
    "colab_type": "code",
    "execution": {
     "iopub.execute_input": "2021-01-06T12:40:25.279666Z",
     "iopub.status.busy": "2021-01-06T12:40:25.278880Z",
     "iopub.status.idle": "2021-01-06T12:40:25.285406Z",
     "shell.execute_reply": "2021-01-06T12:40:25.284870Z"
    },
    "id": "PRFqAUzpNaAW"
   },
   "outputs": [
    {
     "output_type": "execute_result",
     "data": {
      "text/plain": [
       "PolicyStep(action=<tf.Tensor: shape=(1,), dtype=int64, numpy=array([0])>, state=(), info=())"
      ]
     },
     "metadata": {},
     "execution_count": 19
    }
   ],
   "source": [
    "random_policy.action(time_step)"
   ]
  },
  {
   "cell_type": "markdown",
   "metadata": {
    "colab_type": "text",
    "id": "94rCXQtbUbXv"
   },
   "source": [
    "## Metrics and Evaluation\n",
    "\n",
    "The most common metric used to evaluate a policy is the average return. The return is the sum of rewards obtained while running a policy in an environment for an episode. Several episodes are run, creating an average return.\n",
    "\n",
    "The following function computes the average return of a policy, given the policy, environment, and a number of episodes.\n"
   ]
  },
  {
   "cell_type": "code",
   "execution_count": 20,
   "metadata": {
    "colab": {},
    "colab_type": "code",
    "execution": {
     "iopub.execute_input": "2021-01-06T12:40:25.291396Z",
     "iopub.status.busy": "2021-01-06T12:40:25.290679Z",
     "iopub.status.idle": "2021-01-06T12:40:25.292629Z",
     "shell.execute_reply": "2021-01-06T12:40:25.293028Z"
    },
    "id": "bitzHo5_UbXy"
   },
   "outputs": [],
   "source": [
    "#@test {\"skip\": true}\n",
    "def compute_avg_return(environment, policy, num_episodes=10):\n",
    "\n",
    "  total_return = 0.0\n",
    "  for _ in range(num_episodes):\n",
    "\n",
    "    time_step = environment.reset()\n",
    "    episode_return = 0.0\n",
    "\n",
    "    while not time_step.is_last():\n",
    "      action_step = policy.action(time_step)\n",
    "      time_step = environment.step(action_step.action)\n",
    "      episode_return += time_step.reward\n",
    "    total_return += episode_return\n",
    "\n",
    "  avg_return = total_return / num_episodes\n",
    "  return avg_return.numpy()[0]\n",
    "\n",
    "\n",
    "# See also the metrics module for standard implementations of different metrics.\n",
    "# https://github.com/tensorflow/agents/tree/master/tf_agents/metrics"
   ]
  },
  {
   "cell_type": "markdown",
   "metadata": {
    "colab_type": "text",
    "id": "_snCVvq5Z8lJ"
   },
   "source": [
    "Running this computation on the `random_policy` shows a baseline performance in the environment."
   ]
  },
  {
   "cell_type": "code",
   "execution_count": 21,
   "metadata": {
    "colab": {},
    "colab_type": "code",
    "execution": {
     "iopub.execute_input": "2021-01-06T12:40:25.298040Z",
     "iopub.status.busy": "2021-01-06T12:40:25.297379Z",
     "iopub.status.idle": "2021-01-06T12:40:25.757578Z",
     "shell.execute_reply": "2021-01-06T12:40:25.757030Z"
    },
    "id": "9bgU6Q6BZ8Bp"
   },
   "outputs": [
    {
     "output_type": "execute_result",
     "data": {
      "text/plain": [
       "19.3"
      ]
     },
     "metadata": {},
     "execution_count": 21
    }
   ],
   "source": [
    "compute_avg_return(eval_env, random_policy, num_eval_episodes)"
   ]
  },
  {
   "cell_type": "markdown",
   "metadata": {
    "colab_type": "text",
    "id": "NLva6g2jdWgr"
   },
   "source": [
    "## Replay Buffer\n",
    "\n",
    "The replay buffer keeps track of data collected from the environment. This tutorial uses `tf_agents.replay_buffers.tf_uniform_replay_buffer.TFUniformReplayBuffer`, as it is the most common. \n",
    "\n",
    "The constructor requires the specs for the data it will be collecting. This is available from the agent using the `collect_data_spec` method. The batch size and maximum buffer length are also required.\n"
   ]
  },
  {
   "cell_type": "code",
   "execution_count": 22,
   "metadata": {
    "colab": {},
    "colab_type": "code",
    "execution": {
     "iopub.execute_input": "2021-01-06T12:40:25.762805Z",
     "iopub.status.busy": "2021-01-06T12:40:25.762138Z",
     "iopub.status.idle": "2021-01-06T12:40:25.773481Z",
     "shell.execute_reply": "2021-01-06T12:40:25.772865Z"
    },
    "id": "vX2zGUWJGWAl"
   },
   "outputs": [],
   "source": [
    "replay_buffer = tf_uniform_replay_buffer.TFUniformReplayBuffer(\n",
    "    data_spec=agent.collect_data_spec,\n",
    "    batch_size=train_env.batch_size,\n",
    "    max_length=replay_buffer_max_length)"
   ]
  },
  {
   "cell_type": "markdown",
   "metadata": {
    "colab_type": "text",
    "id": "ZGNTDJpZs4NN"
   },
   "source": [
    "For most agents, `collect_data_spec` is a named tuple called `Trajectory`, containing the specs for observations, actions, rewards, and other items."
   ]
  },
  {
   "cell_type": "code",
   "execution_count": 23,
   "metadata": {
    "colab": {},
    "colab_type": "code",
    "execution": {
     "iopub.execute_input": "2021-01-06T12:40:25.779331Z",
     "iopub.status.busy": "2021-01-06T12:40:25.778510Z",
     "iopub.status.idle": "2021-01-06T12:40:25.781944Z",
     "shell.execute_reply": "2021-01-06T12:40:25.781413Z"
    },
    "id": "_IZ-3HcqgE1z"
   },
   "outputs": [
    {
     "output_type": "execute_result",
     "data": {
      "text/plain": [
       "Trajectory(step_type=TensorSpec(shape=(), dtype=tf.int32, name='step_type'), observation=BoundedTensorSpec(shape=(4,), dtype=tf.float32, name='observation', minimum=array([-4.8000002e+00, -3.4028235e+38, -4.1887903e-01, -3.4028235e+38],\n",
       "      dtype=float32), maximum=array([4.8000002e+00, 3.4028235e+38, 4.1887903e-01, 3.4028235e+38],\n",
       "      dtype=float32)), action=BoundedTensorSpec(shape=(), dtype=tf.int64, name='action', minimum=array(0), maximum=array(1)), policy_info=(), next_step_type=TensorSpec(shape=(), dtype=tf.int32, name='step_type'), reward=TensorSpec(shape=(), dtype=tf.float32, name='reward'), discount=BoundedTensorSpec(shape=(), dtype=tf.float32, name='discount', minimum=array(0., dtype=float32), maximum=array(1., dtype=float32)))"
      ]
     },
     "metadata": {},
     "execution_count": 23
    }
   ],
   "source": [
    "agent.collect_data_spec"
   ]
  },
  {
   "cell_type": "code",
   "execution_count": 24,
   "metadata": {
    "colab": {},
    "colab_type": "code",
    "execution": {
     "iopub.execute_input": "2021-01-06T12:40:25.786431Z",
     "iopub.status.busy": "2021-01-06T12:40:25.785678Z",
     "iopub.status.idle": "2021-01-06T12:40:25.788921Z",
     "shell.execute_reply": "2021-01-06T12:40:25.788374Z"
    },
    "id": "sy6g1tGcfRlw"
   },
   "outputs": [
    {
     "output_type": "execute_result",
     "data": {
      "text/plain": [
       "('step_type',\n",
       " 'observation',\n",
       " 'action',\n",
       " 'policy_info',\n",
       " 'next_step_type',\n",
       " 'reward',\n",
       " 'discount')"
      ]
     },
     "metadata": {},
     "execution_count": 24
    }
   ],
   "source": [
    "agent.collect_data_spec._fields"
   ]
  },
  {
   "cell_type": "markdown",
   "metadata": {
    "colab_type": "text",
    "id": "rVD5nQ9ZGo8_"
   },
   "source": [
    "## Data Collection\n",
    "\n",
    "Now execute the random policy in the environment for a few steps, recording the data in the replay buffer."
   ]
  },
  {
   "cell_type": "code",
   "execution_count": 25,
   "metadata": {
    "colab": {},
    "colab_type": "code",
    "execution": {
     "iopub.execute_input": "2021-01-06T12:40:25.796192Z",
     "iopub.status.busy": "2021-01-06T12:40:25.795504Z",
     "iopub.status.idle": "2021-01-06T12:40:26.195846Z",
     "shell.execute_reply": "2021-01-06T12:40:26.195178Z"
    },
    "id": "wr1KSAEGG4h9"
   },
   "outputs": [],
   "source": [
    "#@test {\"skip\": true}\n",
    "def collect_step(environment, policy, buffer):\n",
    "  time_step = environment.current_time_step()\n",
    "  action_step = policy.action(time_step)\n",
    "  next_time_step = environment.step(action_step.action)\n",
    "  traj = trajectory.from_transition(time_step, action_step, next_time_step)\n",
    "\n",
    "  # Add trajectory to the replay buffer\n",
    "  buffer.add_batch(traj)\n",
    "\n",
    "def collect_data(env, policy, buffer, steps):\n",
    "  for _ in range(steps):\n",
    "    collect_step(env, policy, buffer)\n",
    "\n",
    "collect_data(train_env, random_policy, replay_buffer, initial_collect_steps)\n",
    "\n",
    "# This loop is so common in RL, that we provide standard implementations. \n",
    "# For more details see the drivers module.\n",
    "# https://www.tensorflow.org/agents/api_docs/python/tf_agents/drivers"
   ]
  },
  {
   "cell_type": "markdown",
   "metadata": {
    "colab_type": "text",
    "id": "84z5pQJdoKxo"
   },
   "source": [
    "The replay buffer is now a collection of Trajectories."
   ]
  },
  {
   "cell_type": "code",
   "execution_count": 27,
   "metadata": {
    "colab": {},
    "colab_type": "code",
    "execution": {
     "iopub.execute_input": "2021-01-06T12:40:26.200199Z",
     "iopub.status.busy": "2021-01-06T12:40:26.199557Z",
     "iopub.status.idle": "2021-01-06T12:40:26.201601Z",
     "shell.execute_reply": "2021-01-06T12:40:26.202086Z"
    },
    "id": "4wZnLu2ViO4E"
   },
   "outputs": [
    {
     "output_type": "stream",
     "name": "stdout",
     "text": [
      "WARNING:tensorflow:From /home/nhan2/Projects/reinforcement_learning_DNN/venv/lib/python3.7/site-packages/tensorflow/python/autograph/operators/control_flow.py:1218: ReplayBuffer.get_next (from tf_agents.replay_buffers.replay_buffer) is deprecated and will be removed in a future version.\nInstructions for updating:\nUse `as_dataset(..., single_deterministic_pass=False) instead.\n"
     ]
    },
    {
     "output_type": "execute_result",
     "data": {
      "text/plain": [
       "(Trajectory(step_type=<tf.Tensor: shape=(), dtype=int32, numpy=2>, observation=<tf.Tensor: shape=(4,), dtype=float32, numpy=array([ 0.21060157,  1.1334378 , -0.22046864, -1.8659136 ], dtype=float32)>, action=<tf.Tensor: shape=(), dtype=int64, numpy=1>, policy_info=(), next_step_type=<tf.Tensor: shape=(), dtype=int32, numpy=0>, reward=<tf.Tensor: shape=(), dtype=float32, numpy=0.0>, discount=<tf.Tensor: shape=(), dtype=float32, numpy=1.0>),\n",
       " BufferInfo(ids=<tf.Tensor: shape=(), dtype=int64, numpy=47>, probabilities=<tf.Tensor: shape=(), dtype=float32, numpy=0.01>))"
      ]
     },
     "metadata": {},
     "execution_count": 27
    }
   ],
   "source": [
    "# For the curious:\n",
    "# Uncomment to peel one of these off and inspect it.\n",
    "iter(replay_buffer.as_dataset()).next()"
   ]
  },
  {
   "cell_type": "markdown",
   "metadata": {
    "colab_type": "text",
    "id": "TujU-PMUsKjS"
   },
   "source": [
    "The agent needs access to the replay buffer. This is provided by creating an iterable `tf.data.Dataset` pipeline which will feed data to the agent.\n",
    "\n",
    "Each row of the replay buffer only stores a single observation step. But since the DQN Agent needs both the current and next observation to compute the loss, the dataset pipeline will sample two adjacent rows for each item in the batch (`num_steps=2`).\n",
    "\n",
    "This dataset is also optimized by running parallel calls and prefetching data."
   ]
  },
  {
   "cell_type": "code",
   "execution_count": 28,
   "metadata": {
    "colab": {},
    "colab_type": "code",
    "execution": {
     "iopub.execute_input": "2021-01-06T12:40:26.206914Z",
     "iopub.status.busy": "2021-01-06T12:40:26.206194Z",
     "iopub.status.idle": "2021-01-06T12:40:26.991170Z",
     "shell.execute_reply": "2021-01-06T12:40:26.990562Z"
    },
    "id": "ba7bilizt_qW"
   },
   "outputs": [
    {
     "output_type": "execute_result",
     "data": {
      "text/plain": [
       "<PrefetchDataset shapes: (Trajectory(step_type=(64, 2), observation=(64, 2, 4), action=(64, 2), policy_info=(), next_step_type=(64, 2), reward=(64, 2), discount=(64, 2)), BufferInfo(ids=(64, 2), probabilities=(64,))), types: (Trajectory(step_type=tf.int32, observation=tf.float32, action=tf.int64, policy_info=(), next_step_type=tf.int32, reward=tf.float32, discount=tf.float32), BufferInfo(ids=tf.int64, probabilities=tf.float32))>"
      ]
     },
     "metadata": {},
     "execution_count": 28
    }
   ],
   "source": [
    "# Dataset generates trajectories with shape [Bx2x...]\n",
    "dataset = replay_buffer.as_dataset(\n",
    "    num_parallel_calls=3, \n",
    "    sample_batch_size=batch_size, \n",
    "    num_steps=2).prefetch(3)\n",
    "\n",
    "\n",
    "dataset"
   ]
  },
  {
   "cell_type": "code",
   "execution_count": 29,
   "metadata": {
    "colab": {},
    "colab_type": "code",
    "execution": {
     "iopub.execute_input": "2021-01-06T12:40:26.996749Z",
     "iopub.status.busy": "2021-01-06T12:40:26.995170Z",
     "iopub.status.idle": "2021-01-06T12:40:27.055740Z",
     "shell.execute_reply": "2021-01-06T12:40:27.055186Z"
    },
    "id": "K13AST-2ppOq"
   },
   "outputs": [
    {
     "output_type": "stream",
     "name": "stdout",
     "text": [
      "<tensorflow.python.data.ops.iterator_ops.OwnedIterator object at 0x7f2904731748>\n"
     ]
    }
   ],
   "source": [
    "iterator = iter(dataset)\n",
    "\n",
    "print(iterator)\n"
   ]
  },
  {
   "cell_type": "code",
   "execution_count": 31,
   "metadata": {
    "colab": {},
    "colab_type": "code",
    "execution": {
     "iopub.execute_input": "2021-01-06T12:40:27.059744Z",
     "iopub.status.busy": "2021-01-06T12:40:27.058993Z",
     "iopub.status.idle": "2021-01-06T12:40:27.061540Z",
     "shell.execute_reply": "2021-01-06T12:40:27.061011Z"
    },
    "id": "Th5w5Sff0b16"
   },
   "outputs": [],
   "source": [
    "# For the curious:\n",
    "# Uncomment to see what the dataset iterator is feeding to the agent.\n",
    "# Compare this representation of replay data \n",
    "# to the collection of individual trajectories shown earlier.\n",
    "\n",
    "# iterator.next()"
   ]
  },
  {
   "cell_type": "markdown",
   "metadata": {
    "colab_type": "text",
    "id": "hBc9lj9VWWtZ"
   },
   "source": [
    "## Training the agent\n",
    "\n",
    "Two things must happen during the training loop:\n",
    "\n",
    "-   collect data from the environment\n",
    "-   use that data to train the agent's neural network(s)\n",
    "\n",
    "This example also periodicially evaluates the policy and prints the current score.\n",
    "\n",
    "The following will take ~5 minutes to run."
   ]
  },
  {
   "cell_type": "code",
   "execution_count": 30,
   "metadata": {
    "colab": {},
    "colab_type": "code",
    "execution": {
     "iopub.execute_input": "2021-01-06T12:40:27.071558Z",
     "iopub.status.busy": "2021-01-06T12:40:27.069263Z",
     "iopub.status.idle": "2021-01-06T12:46:25.693494Z",
     "shell.execute_reply": "2021-01-06T12:46:25.692885Z"
    },
    "id": "0pTbJ3PeyF-u"
   },
   "outputs": [
    {
     "output_type": "stream",
     "name": "stdout",
     "text": [
      "WARNING:tensorflow:From /home/nhan2/Projects/reinforcement_learning_DNN/venv/lib/python3.7/site-packages/tensorflow/python/util/dispatch.py:201: calling foldr_v2 (from tensorflow.python.ops.functional_ops) with back_prop=False is deprecated and will be removed in a future version.\n",
      "Instructions for updating:\n",
      "back_prop=False is deprecated. Consider using tf.stop_gradient instead.\n",
      "Instead of:\n",
      "results = tf.foldr(fn, elems, back_prop=False)\n",
      "Use:\n",
      "results = tf.nest.map_structure(tf.stop_gradient, tf.foldr(fn, elems))\n",
      "step = 200: loss = 10.592777252197266\n",
      "step = 400: loss = 12.62846851348877\n",
      "step = 600: loss = 14.391368865966797\n",
      "step = 800: loss = 23.469425201416016\n",
      "step = 1000: loss = 14.94798755645752\n",
      "step = 1000: Average Return = 44.79999923706055\n",
      "step = 1200: loss = 19.54747772216797\n",
      "step = 1400: loss = 33.734107971191406\n",
      "step = 1600: loss = 32.998756408691406\n",
      "step = 1800: loss = 28.833890914916992\n",
      "step = 2000: loss = 20.750322341918945\n",
      "step = 2000: Average Return = 38.70000076293945\n",
      "step = 2200: loss = 37.703433990478516\n",
      "step = 2400: loss = 31.43033218383789\n",
      "step = 2600: loss = 56.559165954589844\n",
      "step = 2800: loss = 25.135345458984375\n",
      "step = 3000: loss = 18.835575103759766\n",
      "step = 3000: Average Return = 59.5\n",
      "step = 3200: loss = 31.153209686279297\n",
      "step = 3400: loss = 80.65839385986328\n",
      "step = 3600: loss = 22.11138916015625\n",
      "step = 3800: loss = 72.51863861083984\n",
      "step = 4000: loss = 36.19025421142578\n",
      "step = 4000: Average Return = 88.69999694824219\n",
      "step = 4200: loss = 63.71287536621094\n",
      "step = 4400: loss = 70.49435424804688\n",
      "step = 4600: loss = 84.97726440429688\n",
      "step = 4800: loss = 64.71814727783203\n",
      "step = 5000: loss = 75.95077514648438\n",
      "step = 5000: Average Return = 117.0999984741211\n",
      "step = 5200: loss = 60.05625534057617\n",
      "step = 5400: loss = 9.991966247558594\n",
      "step = 5600: loss = 192.24142456054688\n",
      "step = 5800: loss = 71.95331573486328\n",
      "step = 6000: loss = 58.77595901489258\n",
      "step = 6000: Average Return = 95.4000015258789\n",
      "step = 6200: loss = 97.01907348632812\n",
      "step = 6400: loss = 94.06910705566406\n",
      "step = 6600: loss = 188.23092651367188\n",
      "step = 6800: loss = 33.015262603759766\n",
      "step = 7000: loss = 301.64990234375\n",
      "step = 7000: Average Return = 171.89999389648438\n",
      "step = 7200: loss = 82.29024505615234\n",
      "step = 7400: loss = 175.03819274902344\n",
      "step = 7600: loss = 12.716604232788086\n",
      "step = 7800: loss = 119.64752960205078\n",
      "step = 8000: loss = 510.56109619140625\n",
      "step = 8000: Average Return = 197.89999389648438\n",
      "step = 8200: loss = 30.070682525634766\n",
      "step = 8400: loss = 157.81158447265625\n",
      "step = 8600: loss = 12.332192420959473\n",
      "step = 8800: loss = 18.268131256103516\n",
      "step = 9000: loss = 15.154511451721191\n",
      "step = 9000: Average Return = 186.89999389648438\n",
      "step = 9200: loss = 16.56087875366211\n",
      "step = 9400: loss = 17.694875717163086\n",
      "step = 9600: loss = 17.03173828125\n",
      "step = 9800: loss = 417.40087890625\n",
      "step = 10000: loss = 198.3427276611328\n",
      "step = 10000: Average Return = 199.8000030517578\n",
      "step = 10200: loss = 23.32119369506836\n",
      "step = 10400: loss = 278.5062561035156\n",
      "step = 10600: loss = 156.4754180908203\n",
      "step = 10800: loss = 25.33492088317871\n",
      "step = 11000: loss = 15.350910186767578\n",
      "step = 11000: Average Return = 200.0\n",
      "step = 11200: loss = 241.99615478515625\n",
      "step = 11400: loss = 85.65643310546875\n",
      "step = 11600: loss = 31.035972595214844\n",
      "step = 11800: loss = 297.31317138671875\n",
      "step = 12000: loss = 344.8248291015625\n",
      "step = 12000: Average Return = 194.5\n",
      "step = 12200: loss = 25.634185791015625\n",
      "step = 12400: loss = 23.28983497619629\n",
      "step = 12600: loss = 482.59515380859375\n",
      "step = 12800: loss = 25.689916610717773\n",
      "step = 13000: loss = 29.933135986328125\n",
      "step = 13000: Average Return = 200.0\n",
      "step = 13200: loss = 854.0032348632812\n",
      "step = 13400: loss = 1897.6329345703125\n",
      "step = 13600: loss = 44.82372283935547\n",
      "step = 13800: loss = 1152.459228515625\n",
      "step = 14000: loss = 18.182462692260742\n",
      "step = 14000: Average Return = 199.5\n",
      "step = 14200: loss = 29.357952117919922\n",
      "step = 14400: loss = 42.82218551635742\n",
      "step = 14600: loss = 2262.205078125\n",
      "step = 14800: loss = 25.177766799926758\n",
      "step = 15000: loss = 1964.61181640625\n",
      "step = 15000: Average Return = 200.0\n",
      "step = 15200: loss = 638.0328369140625\n",
      "step = 15400: loss = 78.41813659667969\n",
      "step = 15600: loss = 860.6185913085938\n",
      "step = 15800: loss = 51.13558578491211\n",
      "step = 16000: loss = 65.13409423828125\n",
      "step = 16000: Average Return = 200.0\n",
      "step = 16200: loss = 962.2754516601562\n",
      "step = 16400: loss = 37.683292388916016\n",
      "step = 16600: loss = 42.46189880371094\n",
      "step = 16800: loss = 91.98847198486328\n",
      "step = 17000: loss = 1549.3583984375\n",
      "step = 17000: Average Return = 200.0\n",
      "step = 17200: loss = 40.26185607910156\n",
      "step = 17400: loss = 1003.7211303710938\n",
      "step = 17600: loss = 66.23504638671875\n",
      "step = 17800: loss = 4171.31005859375\n",
      "step = 18000: loss = 51.37989807128906\n",
      "step = 18000: Average Return = 200.0\n",
      "step = 18200: loss = 91.12522888183594\n",
      "step = 18400: loss = 2556.2060546875\n",
      "step = 18600: loss = 49.376991271972656\n",
      "step = 18800: loss = 62.625709533691406\n",
      "step = 19000: loss = 84.65469360351562\n",
      "step = 19000: Average Return = 200.0\n",
      "step = 19200: loss = 55.17166519165039\n",
      "step = 19400: loss = 222.4355010986328\n",
      "step = 19600: loss = 3571.0341796875\n",
      "step = 19800: loss = 2085.462646484375\n",
      "step = 20000: loss = 1570.84375\n",
      "step = 20000: Average Return = 200.0\n"
     ]
    }
   ],
   "source": [
    "#@test {\"skip\": true}\n",
    "try:\n",
    "  %%time\n",
    "except:\n",
    "  pass\n",
    "\n",
    "# (Optional) Optimize by wrapping some of the code in a graph using TF function.\n",
    "agent.train = common.function(agent.train)\n",
    "\n",
    "# Reset the train step\n",
    "agent.train_step_counter.assign(0)\n",
    "\n",
    "# Evaluate the agent's policy once before training.\n",
    "avg_return = compute_avg_return(eval_env, agent.policy, num_eval_episodes)\n",
    "returns = [avg_return]\n",
    "\n",
    "for _ in range(num_iterations):\n",
    "\n",
    "  # Collect a few steps using collect_policy and save to the replay buffer.\n",
    "  collect_data(train_env, agent.collect_policy, replay_buffer, collect_steps_per_iteration)\n",
    "\n",
    "  # Sample a batch of data from the buffer and update the agent's network.\n",
    "  experience, unused_info = next(iterator)\n",
    "  train_loss = agent.train(experience).loss\n",
    "\n",
    "  step = agent.train_step_counter.numpy()\n",
    "\n",
    "  if step % log_interval == 0:\n",
    "    print('step = {0}: loss = {1}'.format(step, train_loss))\n",
    "\n",
    "  if step % eval_interval == 0:\n",
    "    avg_return = compute_avg_return(eval_env, agent.policy, num_eval_episodes)\n",
    "    print('step = {0}: Average Return = {1}'.format(step, avg_return))\n",
    "    returns.append(avg_return)"
   ]
  },
  {
   "cell_type": "markdown",
   "metadata": {
    "colab_type": "text",
    "id": "68jNcA_TiJDq"
   },
   "source": [
    "## Visualization\n"
   ]
  },
  {
   "cell_type": "markdown",
   "metadata": {
    "colab_type": "text",
    "id": "aO-LWCdbbOIC"
   },
   "source": [
    "### Plots\n",
    "\n",
    "Use `matplotlib.pyplot` to chart how the policy improved during training.\n",
    "\n",
    "One iteration of `Cartpole-v0` consists of 200 time steps. The environment gives a reward of `+1` for each step the pole stays up, so the maximum return for one episode is 200. The charts shows the return increasing towards that maximum each time it is evaluated during training. (It may be a little unstable and not increase monotonically each time.)"
   ]
  },
  {
   "cell_type": "code",
   "execution_count": 31,
   "metadata": {
    "colab": {},
    "colab_type": "code",
    "execution": {
     "iopub.execute_input": "2021-01-06T12:46:25.714026Z",
     "iopub.status.busy": "2021-01-06T12:46:25.712898Z",
     "iopub.status.idle": "2021-01-06T12:46:25.842322Z",
     "shell.execute_reply": "2021-01-06T12:46:25.842831Z"
    },
    "id": "NxtL1mbOYCVO"
   },
   "outputs": [
    {
     "output_type": "execute_result",
     "data": {
      "text/plain": [
       "(15.2, 250.0)"
      ]
     },
     "metadata": {},
     "execution_count": 31
    },
    {
     "output_type": "display_data",
     "data": {
      "text/plain": "<Figure size 432x288 with 1 Axes>",
      "image/svg+xml": "<?xml version=\"1.0\" encoding=\"utf-8\" standalone=\"no\"?>\n<!DOCTYPE svg PUBLIC \"-//W3C//DTD SVG 1.1//EN\"\n  \"http://www.w3.org/Graphics/SVG/1.1/DTD/svg11.dtd\">\n<!-- Created with matplotlib (https://matplotlib.org/) -->\n<svg height=\"265.995469pt\" version=\"1.1\" viewBox=\"0 0 389.653693 265.995469\" width=\"389.653693pt\" xmlns=\"http://www.w3.org/2000/svg\" xmlns:xlink=\"http://www.w3.org/1999/xlink\">\n <metadata>\n  <rdf:RDF xmlns:cc=\"http://creativecommons.org/ns#\" xmlns:dc=\"http://purl.org/dc/elements/1.1/\" xmlns:rdf=\"http://www.w3.org/1999/02/22-rdf-syntax-ns#\">\n   <cc:Work>\n    <dc:type rdf:resource=\"http://purl.org/dc/dcmitype/StillImage\"/>\n    <dc:date>2021-01-30T21:12:52.747530</dc:date>\n    <dc:format>image/svg+xml</dc:format>\n    <dc:creator>\n     <cc:Agent>\n      <dc:title>Matplotlib v3.3.3, https://matplotlib.org/</dc:title>\n     </cc:Agent>\n    </dc:creator>\n   </cc:Work>\n  </rdf:RDF>\n </metadata>\n <defs>\n  <style type=\"text/css\">*{stroke-linecap:butt;stroke-linejoin:round;}</style>\n </defs>\n <g id=\"figure_1\">\n  <g id=\"patch_1\">\n   <path d=\"M 0 265.995469 \nL 389.653693 265.995469 \nL 389.653693 0 \nL 0 0 \nz\n\" style=\"fill:none;\"/>\n  </g>\n  <g id=\"axes_1\">\n   <g id=\"patch_2\">\n    <path d=\"M 46.965625 228.439219 \nL 381.765625 228.439219 \nL 381.765625 10.999219 \nL 46.965625 10.999219 \nz\n\" style=\"fill:#ffffff;\"/>\n   </g>\n   <g id=\"matplotlib.axis_1\">\n    <g id=\"xtick_1\">\n     <g id=\"line2d_1\">\n      <defs>\n       <path d=\"M 0 0 \nL 0 3.5 \n\" id=\"m5126195a34\" style=\"stroke:#000000;stroke-width:0.8;\"/>\n      </defs>\n      <g>\n       <use style=\"stroke:#000000;stroke-width:0.8;\" x=\"62.183807\" xlink:href=\"#m5126195a34\" y=\"228.439219\"/>\n      </g>\n     </g>\n     <g id=\"text_1\">\n      <!-- 0 -->\n      <g transform=\"translate(59.002557 243.037656)scale(0.1 -0.1)\">\n       <defs>\n        <path d=\"M 31.78125 66.40625 \nQ 24.171875 66.40625 20.328125 58.90625 \nQ 16.5 51.421875 16.5 36.375 \nQ 16.5 21.390625 20.328125 13.890625 \nQ 24.171875 6.390625 31.78125 6.390625 \nQ 39.453125 6.390625 43.28125 13.890625 \nQ 47.125 21.390625 47.125 36.375 \nQ 47.125 51.421875 43.28125 58.90625 \nQ 39.453125 66.40625 31.78125 66.40625 \nz\nM 31.78125 74.21875 \nQ 44.046875 74.21875 50.515625 64.515625 \nQ 56.984375 54.828125 56.984375 36.375 \nQ 56.984375 17.96875 50.515625 8.265625 \nQ 44.046875 -1.421875 31.78125 -1.421875 \nQ 19.53125 -1.421875 13.0625 8.265625 \nQ 6.59375 17.96875 6.59375 36.375 \nQ 6.59375 54.828125 13.0625 64.515625 \nQ 19.53125 74.21875 31.78125 74.21875 \nz\n\" id=\"DejaVuSans-48\"/>\n       </defs>\n       <use xlink:href=\"#DejaVuSans-48\"/>\n      </g>\n     </g>\n    </g>\n    <g id=\"xtick_2\">\n     <g id=\"line2d_2\">\n      <g>\n       <use style=\"stroke:#000000;stroke-width:0.8;\" x=\"100.229261\" xlink:href=\"#m5126195a34\" y=\"228.439219\"/>\n      </g>\n     </g>\n     <g id=\"text_2\">\n      <!-- 2500 -->\n      <g transform=\"translate(87.504261 243.037656)scale(0.1 -0.1)\">\n       <defs>\n        <path d=\"M 19.1875 8.296875 \nL 53.609375 8.296875 \nL 53.609375 0 \nL 7.328125 0 \nL 7.328125 8.296875 \nQ 12.9375 14.109375 22.625 23.890625 \nQ 32.328125 33.6875 34.8125 36.53125 \nQ 39.546875 41.84375 41.421875 45.53125 \nQ 43.3125 49.21875 43.3125 52.78125 \nQ 43.3125 58.59375 39.234375 62.25 \nQ 35.15625 65.921875 28.609375 65.921875 \nQ 23.96875 65.921875 18.8125 64.3125 \nQ 13.671875 62.703125 7.8125 59.421875 \nL 7.8125 69.390625 \nQ 13.765625 71.78125 18.9375 73 \nQ 24.125 74.21875 28.421875 74.21875 \nQ 39.75 74.21875 46.484375 68.546875 \nQ 53.21875 62.890625 53.21875 53.421875 \nQ 53.21875 48.921875 51.53125 44.890625 \nQ 49.859375 40.875 45.40625 35.40625 \nQ 44.1875 33.984375 37.640625 27.21875 \nQ 31.109375 20.453125 19.1875 8.296875 \nz\n\" id=\"DejaVuSans-50\"/>\n        <path d=\"M 10.796875 72.90625 \nL 49.515625 72.90625 \nL 49.515625 64.59375 \nL 19.828125 64.59375 \nL 19.828125 46.734375 \nQ 21.96875 47.46875 24.109375 47.828125 \nQ 26.265625 48.1875 28.421875 48.1875 \nQ 40.625 48.1875 47.75 41.5 \nQ 54.890625 34.8125 54.890625 23.390625 \nQ 54.890625 11.625 47.5625 5.09375 \nQ 40.234375 -1.421875 26.90625 -1.421875 \nQ 22.3125 -1.421875 17.546875 -0.640625 \nQ 12.796875 0.140625 7.71875 1.703125 \nL 7.71875 11.625 \nQ 12.109375 9.234375 16.796875 8.0625 \nQ 21.484375 6.890625 26.703125 6.890625 \nQ 35.15625 6.890625 40.078125 11.328125 \nQ 45.015625 15.765625 45.015625 23.390625 \nQ 45.015625 31 40.078125 35.4375 \nQ 35.15625 39.890625 26.703125 39.890625 \nQ 22.75 39.890625 18.8125 39.015625 \nQ 14.890625 38.140625 10.796875 36.28125 \nz\n\" id=\"DejaVuSans-53\"/>\n       </defs>\n       <use xlink:href=\"#DejaVuSans-50\"/>\n       <use x=\"63.623047\" xlink:href=\"#DejaVuSans-53\"/>\n       <use x=\"127.246094\" xlink:href=\"#DejaVuSans-48\"/>\n       <use x=\"190.869141\" xlink:href=\"#DejaVuSans-48\"/>\n      </g>\n     </g>\n    </g>\n    <g id=\"xtick_3\">\n     <g id=\"line2d_3\">\n      <g>\n       <use style=\"stroke:#000000;stroke-width:0.8;\" x=\"138.274716\" xlink:href=\"#m5126195a34\" y=\"228.439219\"/>\n      </g>\n     </g>\n     <g id=\"text_3\">\n      <!-- 5000 -->\n      <g transform=\"translate(125.549716 243.037656)scale(0.1 -0.1)\">\n       <use xlink:href=\"#DejaVuSans-53\"/>\n       <use x=\"63.623047\" xlink:href=\"#DejaVuSans-48\"/>\n       <use x=\"127.246094\" xlink:href=\"#DejaVuSans-48\"/>\n       <use x=\"190.869141\" xlink:href=\"#DejaVuSans-48\"/>\n      </g>\n     </g>\n    </g>\n    <g id=\"xtick_4\">\n     <g id=\"line2d_4\">\n      <g>\n       <use style=\"stroke:#000000;stroke-width:0.8;\" x=\"176.32017\" xlink:href=\"#m5126195a34\" y=\"228.439219\"/>\n      </g>\n     </g>\n     <g id=\"text_4\">\n      <!-- 7500 -->\n      <g transform=\"translate(163.59517 243.037656)scale(0.1 -0.1)\">\n       <defs>\n        <path d=\"M 8.203125 72.90625 \nL 55.078125 72.90625 \nL 55.078125 68.703125 \nL 28.609375 0 \nL 18.3125 0 \nL 43.21875 64.59375 \nL 8.203125 64.59375 \nz\n\" id=\"DejaVuSans-55\"/>\n       </defs>\n       <use xlink:href=\"#DejaVuSans-55\"/>\n       <use x=\"63.623047\" xlink:href=\"#DejaVuSans-53\"/>\n       <use x=\"127.246094\" xlink:href=\"#DejaVuSans-48\"/>\n       <use x=\"190.869141\" xlink:href=\"#DejaVuSans-48\"/>\n      </g>\n     </g>\n    </g>\n    <g id=\"xtick_5\">\n     <g id=\"line2d_5\">\n      <g>\n       <use style=\"stroke:#000000;stroke-width:0.8;\" x=\"214.365625\" xlink:href=\"#m5126195a34\" y=\"228.439219\"/>\n      </g>\n     </g>\n     <g id=\"text_5\">\n      <!-- 10000 -->\n      <g transform=\"translate(198.459375 243.037656)scale(0.1 -0.1)\">\n       <defs>\n        <path d=\"M 12.40625 8.296875 \nL 28.515625 8.296875 \nL 28.515625 63.921875 \nL 10.984375 60.40625 \nL 10.984375 69.390625 \nL 28.421875 72.90625 \nL 38.28125 72.90625 \nL 38.28125 8.296875 \nL 54.390625 8.296875 \nL 54.390625 0 \nL 12.40625 0 \nz\n\" id=\"DejaVuSans-49\"/>\n       </defs>\n       <use xlink:href=\"#DejaVuSans-49\"/>\n       <use x=\"63.623047\" xlink:href=\"#DejaVuSans-48\"/>\n       <use x=\"127.246094\" xlink:href=\"#DejaVuSans-48\"/>\n       <use x=\"190.869141\" xlink:href=\"#DejaVuSans-48\"/>\n       <use x=\"254.492188\" xlink:href=\"#DejaVuSans-48\"/>\n      </g>\n     </g>\n    </g>\n    <g id=\"xtick_6\">\n     <g id=\"line2d_6\">\n      <g>\n       <use style=\"stroke:#000000;stroke-width:0.8;\" x=\"252.41108\" xlink:href=\"#m5126195a34\" y=\"228.439219\"/>\n      </g>\n     </g>\n     <g id=\"text_6\">\n      <!-- 12500 -->\n      <g transform=\"translate(236.50483 243.037656)scale(0.1 -0.1)\">\n       <use xlink:href=\"#DejaVuSans-49\"/>\n       <use x=\"63.623047\" xlink:href=\"#DejaVuSans-50\"/>\n       <use x=\"127.246094\" xlink:href=\"#DejaVuSans-53\"/>\n       <use x=\"190.869141\" xlink:href=\"#DejaVuSans-48\"/>\n       <use x=\"254.492188\" xlink:href=\"#DejaVuSans-48\"/>\n      </g>\n     </g>\n    </g>\n    <g id=\"xtick_7\">\n     <g id=\"line2d_7\">\n      <g>\n       <use style=\"stroke:#000000;stroke-width:0.8;\" x=\"290.456534\" xlink:href=\"#m5126195a34\" y=\"228.439219\"/>\n      </g>\n     </g>\n     <g id=\"text_7\">\n      <!-- 15000 -->\n      <g transform=\"translate(274.550284 243.037656)scale(0.1 -0.1)\">\n       <use xlink:href=\"#DejaVuSans-49\"/>\n       <use x=\"63.623047\" xlink:href=\"#DejaVuSans-53\"/>\n       <use x=\"127.246094\" xlink:href=\"#DejaVuSans-48\"/>\n       <use x=\"190.869141\" xlink:href=\"#DejaVuSans-48\"/>\n       <use x=\"254.492188\" xlink:href=\"#DejaVuSans-48\"/>\n      </g>\n     </g>\n    </g>\n    <g id=\"xtick_8\">\n     <g id=\"line2d_8\">\n      <g>\n       <use style=\"stroke:#000000;stroke-width:0.8;\" x=\"328.501989\" xlink:href=\"#m5126195a34\" y=\"228.439219\"/>\n      </g>\n     </g>\n     <g id=\"text_8\">\n      <!-- 17500 -->\n      <g transform=\"translate(312.595739 243.037656)scale(0.1 -0.1)\">\n       <use xlink:href=\"#DejaVuSans-49\"/>\n       <use x=\"63.623047\" xlink:href=\"#DejaVuSans-55\"/>\n       <use x=\"127.246094\" xlink:href=\"#DejaVuSans-53\"/>\n       <use x=\"190.869141\" xlink:href=\"#DejaVuSans-48\"/>\n       <use x=\"254.492188\" xlink:href=\"#DejaVuSans-48\"/>\n      </g>\n     </g>\n    </g>\n    <g id=\"xtick_9\">\n     <g id=\"line2d_9\">\n      <g>\n       <use style=\"stroke:#000000;stroke-width:0.8;\" x=\"366.547443\" xlink:href=\"#m5126195a34\" y=\"228.439219\"/>\n      </g>\n     </g>\n     <g id=\"text_9\">\n      <!-- 20000 -->\n      <g transform=\"translate(350.641193 243.037656)scale(0.1 -0.1)\">\n       <use xlink:href=\"#DejaVuSans-50\"/>\n       <use x=\"63.623047\" xlink:href=\"#DejaVuSans-48\"/>\n       <use x=\"127.246094\" xlink:href=\"#DejaVuSans-48\"/>\n       <use x=\"190.869141\" xlink:href=\"#DejaVuSans-48\"/>\n       <use x=\"254.492188\" xlink:href=\"#DejaVuSans-48\"/>\n      </g>\n     </g>\n    </g>\n    <g id=\"text_10\">\n     <!-- Iterations -->\n     <g transform=\"translate(190.552344 256.715781)scale(0.1 -0.1)\">\n      <defs>\n       <path d=\"M 9.8125 72.90625 \nL 19.671875 72.90625 \nL 19.671875 0 \nL 9.8125 0 \nz\n\" id=\"DejaVuSans-73\"/>\n       <path d=\"M 18.3125 70.21875 \nL 18.3125 54.6875 \nL 36.8125 54.6875 \nL 36.8125 47.703125 \nL 18.3125 47.703125 \nL 18.3125 18.015625 \nQ 18.3125 11.328125 20.140625 9.421875 \nQ 21.96875 7.515625 27.59375 7.515625 \nL 36.8125 7.515625 \nL 36.8125 0 \nL 27.59375 0 \nQ 17.1875 0 13.234375 3.875 \nQ 9.28125 7.765625 9.28125 18.015625 \nL 9.28125 47.703125 \nL 2.6875 47.703125 \nL 2.6875 54.6875 \nL 9.28125 54.6875 \nL 9.28125 70.21875 \nz\n\" id=\"DejaVuSans-116\"/>\n       <path d=\"M 56.203125 29.59375 \nL 56.203125 25.203125 \nL 14.890625 25.203125 \nQ 15.484375 15.921875 20.484375 11.0625 \nQ 25.484375 6.203125 34.421875 6.203125 \nQ 39.59375 6.203125 44.453125 7.46875 \nQ 49.3125 8.734375 54.109375 11.28125 \nL 54.109375 2.78125 \nQ 49.265625 0.734375 44.1875 -0.34375 \nQ 39.109375 -1.421875 33.890625 -1.421875 \nQ 20.796875 -1.421875 13.15625 6.1875 \nQ 5.515625 13.8125 5.515625 26.8125 \nQ 5.515625 40.234375 12.765625 48.109375 \nQ 20.015625 56 32.328125 56 \nQ 43.359375 56 49.78125 48.890625 \nQ 56.203125 41.796875 56.203125 29.59375 \nz\nM 47.21875 32.234375 \nQ 47.125 39.59375 43.09375 43.984375 \nQ 39.0625 48.390625 32.421875 48.390625 \nQ 24.90625 48.390625 20.390625 44.140625 \nQ 15.875 39.890625 15.1875 32.171875 \nz\n\" id=\"DejaVuSans-101\"/>\n       <path d=\"M 41.109375 46.296875 \nQ 39.59375 47.171875 37.8125 47.578125 \nQ 36.03125 48 33.890625 48 \nQ 26.265625 48 22.1875 43.046875 \nQ 18.109375 38.09375 18.109375 28.8125 \nL 18.109375 0 \nL 9.078125 0 \nL 9.078125 54.6875 \nL 18.109375 54.6875 \nL 18.109375 46.1875 \nQ 20.953125 51.171875 25.484375 53.578125 \nQ 30.03125 56 36.53125 56 \nQ 37.453125 56 38.578125 55.875 \nQ 39.703125 55.765625 41.0625 55.515625 \nz\n\" id=\"DejaVuSans-114\"/>\n       <path d=\"M 34.28125 27.484375 \nQ 23.390625 27.484375 19.1875 25 \nQ 14.984375 22.515625 14.984375 16.5 \nQ 14.984375 11.71875 18.140625 8.90625 \nQ 21.296875 6.109375 26.703125 6.109375 \nQ 34.1875 6.109375 38.703125 11.40625 \nQ 43.21875 16.703125 43.21875 25.484375 \nL 43.21875 27.484375 \nz\nM 52.203125 31.203125 \nL 52.203125 0 \nL 43.21875 0 \nL 43.21875 8.296875 \nQ 40.140625 3.328125 35.546875 0.953125 \nQ 30.953125 -1.421875 24.3125 -1.421875 \nQ 15.921875 -1.421875 10.953125 3.296875 \nQ 6 8.015625 6 15.921875 \nQ 6 25.140625 12.171875 29.828125 \nQ 18.359375 34.515625 30.609375 34.515625 \nL 43.21875 34.515625 \nL 43.21875 35.40625 \nQ 43.21875 41.609375 39.140625 45 \nQ 35.0625 48.390625 27.6875 48.390625 \nQ 23 48.390625 18.546875 47.265625 \nQ 14.109375 46.140625 10.015625 43.890625 \nL 10.015625 52.203125 \nQ 14.9375 54.109375 19.578125 55.046875 \nQ 24.21875 56 28.609375 56 \nQ 40.484375 56 46.34375 49.84375 \nQ 52.203125 43.703125 52.203125 31.203125 \nz\n\" id=\"DejaVuSans-97\"/>\n       <path d=\"M 9.421875 54.6875 \nL 18.40625 54.6875 \nL 18.40625 0 \nL 9.421875 0 \nz\nM 9.421875 75.984375 \nL 18.40625 75.984375 \nL 18.40625 64.59375 \nL 9.421875 64.59375 \nz\n\" id=\"DejaVuSans-105\"/>\n       <path d=\"M 30.609375 48.390625 \nQ 23.390625 48.390625 19.1875 42.75 \nQ 14.984375 37.109375 14.984375 27.296875 \nQ 14.984375 17.484375 19.15625 11.84375 \nQ 23.34375 6.203125 30.609375 6.203125 \nQ 37.796875 6.203125 41.984375 11.859375 \nQ 46.1875 17.53125 46.1875 27.296875 \nQ 46.1875 37.015625 41.984375 42.703125 \nQ 37.796875 48.390625 30.609375 48.390625 \nz\nM 30.609375 56 \nQ 42.328125 56 49.015625 48.375 \nQ 55.71875 40.765625 55.71875 27.296875 \nQ 55.71875 13.875 49.015625 6.21875 \nQ 42.328125 -1.421875 30.609375 -1.421875 \nQ 18.84375 -1.421875 12.171875 6.21875 \nQ 5.515625 13.875 5.515625 27.296875 \nQ 5.515625 40.765625 12.171875 48.375 \nQ 18.84375 56 30.609375 56 \nz\n\" id=\"DejaVuSans-111\"/>\n       <path d=\"M 54.890625 33.015625 \nL 54.890625 0 \nL 45.90625 0 \nL 45.90625 32.71875 \nQ 45.90625 40.484375 42.875 44.328125 \nQ 39.84375 48.1875 33.796875 48.1875 \nQ 26.515625 48.1875 22.3125 43.546875 \nQ 18.109375 38.921875 18.109375 30.90625 \nL 18.109375 0 \nL 9.078125 0 \nL 9.078125 54.6875 \nL 18.109375 54.6875 \nL 18.109375 46.1875 \nQ 21.34375 51.125 25.703125 53.5625 \nQ 30.078125 56 35.796875 56 \nQ 45.21875 56 50.046875 50.171875 \nQ 54.890625 44.34375 54.890625 33.015625 \nz\n\" id=\"DejaVuSans-110\"/>\n       <path d=\"M 44.28125 53.078125 \nL 44.28125 44.578125 \nQ 40.484375 46.53125 36.375 47.5 \nQ 32.28125 48.484375 27.875 48.484375 \nQ 21.1875 48.484375 17.84375 46.4375 \nQ 14.5 44.390625 14.5 40.28125 \nQ 14.5 37.15625 16.890625 35.375 \nQ 19.28125 33.59375 26.515625 31.984375 \nL 29.59375 31.296875 \nQ 39.15625 29.25 43.1875 25.515625 \nQ 47.21875 21.78125 47.21875 15.09375 \nQ 47.21875 7.46875 41.1875 3.015625 \nQ 35.15625 -1.421875 24.609375 -1.421875 \nQ 20.21875 -1.421875 15.453125 -0.5625 \nQ 10.6875 0.296875 5.421875 2 \nL 5.421875 11.28125 \nQ 10.40625 8.6875 15.234375 7.390625 \nQ 20.0625 6.109375 24.8125 6.109375 \nQ 31.15625 6.109375 34.5625 8.28125 \nQ 37.984375 10.453125 37.984375 14.40625 \nQ 37.984375 18.0625 35.515625 20.015625 \nQ 33.0625 21.96875 24.703125 23.78125 \nL 21.578125 24.515625 \nQ 13.234375 26.265625 9.515625 29.90625 \nQ 5.8125 33.546875 5.8125 39.890625 \nQ 5.8125 47.609375 11.28125 51.796875 \nQ 16.75 56 26.8125 56 \nQ 31.78125 56 36.171875 55.265625 \nQ 40.578125 54.546875 44.28125 53.078125 \nz\n\" id=\"DejaVuSans-115\"/>\n      </defs>\n      <use xlink:href=\"#DejaVuSans-73\"/>\n      <use x=\"29.492188\" xlink:href=\"#DejaVuSans-116\"/>\n      <use x=\"68.701172\" xlink:href=\"#DejaVuSans-101\"/>\n      <use x=\"130.224609\" xlink:href=\"#DejaVuSans-114\"/>\n      <use x=\"171.337891\" xlink:href=\"#DejaVuSans-97\"/>\n      <use x=\"232.617188\" xlink:href=\"#DejaVuSans-116\"/>\n      <use x=\"271.826172\" xlink:href=\"#DejaVuSans-105\"/>\n      <use x=\"299.609375\" xlink:href=\"#DejaVuSans-111\"/>\n      <use x=\"360.791016\" xlink:href=\"#DejaVuSans-110\"/>\n      <use x=\"424.169922\" xlink:href=\"#DejaVuSans-115\"/>\n     </g>\n    </g>\n   </g>\n   <g id=\"matplotlib.axis_2\">\n    <g id=\"ytick_1\">\n     <g id=\"line2d_10\">\n      <defs>\n       <path d=\"M 0 0 \nL -3.5 0 \n\" id=\"m5e4e2a03f0\" style=\"stroke:#000000;stroke-width:0.8;\"/>\n      </defs>\n      <g>\n       <use style=\"stroke:#000000;stroke-width:0.8;\" x=\"46.965625\" xlink:href=\"#m5e4e2a03f0\" y=\"196.212166\"/>\n      </g>\n     </g>\n     <g id=\"text_11\">\n      <!-- 50 -->\n      <g transform=\"translate(27.240625 200.011385)scale(0.1 -0.1)\">\n       <use xlink:href=\"#DejaVuSans-53\"/>\n       <use x=\"63.623047\" xlink:href=\"#DejaVuSans-48\"/>\n      </g>\n     </g>\n    </g>\n    <g id=\"ytick_2\">\n     <g id=\"line2d_11\">\n      <g>\n       <use style=\"stroke:#000000;stroke-width:0.8;\" x=\"46.965625\" xlink:href=\"#m5e4e2a03f0\" y=\"149.908929\"/>\n      </g>\n     </g>\n     <g id=\"text_12\">\n      <!-- 100 -->\n      <g transform=\"translate(20.878125 153.708148)scale(0.1 -0.1)\">\n       <use xlink:href=\"#DejaVuSans-49\"/>\n       <use x=\"63.623047\" xlink:href=\"#DejaVuSans-48\"/>\n       <use x=\"127.246094\" xlink:href=\"#DejaVuSans-48\"/>\n      </g>\n     </g>\n    </g>\n    <g id=\"ytick_3\">\n     <g id=\"line2d_12\">\n      <g>\n       <use style=\"stroke:#000000;stroke-width:0.8;\" x=\"46.965625\" xlink:href=\"#m5e4e2a03f0\" y=\"103.605692\"/>\n      </g>\n     </g>\n     <g id=\"text_13\">\n      <!-- 150 -->\n      <g transform=\"translate(20.878125 107.404911)scale(0.1 -0.1)\">\n       <use xlink:href=\"#DejaVuSans-49\"/>\n       <use x=\"63.623047\" xlink:href=\"#DejaVuSans-53\"/>\n       <use x=\"127.246094\" xlink:href=\"#DejaVuSans-48\"/>\n      </g>\n     </g>\n    </g>\n    <g id=\"ytick_4\">\n     <g id=\"line2d_13\">\n      <g>\n       <use style=\"stroke:#000000;stroke-width:0.8;\" x=\"46.965625\" xlink:href=\"#m5e4e2a03f0\" y=\"57.302456\"/>\n      </g>\n     </g>\n     <g id=\"text_14\">\n      <!-- 200 -->\n      <g transform=\"translate(20.878125 61.101674)scale(0.1 -0.1)\">\n       <use xlink:href=\"#DejaVuSans-50\"/>\n       <use x=\"63.623047\" xlink:href=\"#DejaVuSans-48\"/>\n       <use x=\"127.246094\" xlink:href=\"#DejaVuSans-48\"/>\n      </g>\n     </g>\n    </g>\n    <g id=\"ytick_5\">\n     <g id=\"line2d_14\">\n      <g>\n       <use style=\"stroke:#000000;stroke-width:0.8;\" x=\"46.965625\" xlink:href=\"#m5e4e2a03f0\" y=\"10.999219\"/>\n      </g>\n     </g>\n     <g id=\"text_15\">\n      <!-- 250 -->\n      <g transform=\"translate(20.878125 14.798437)scale(0.1 -0.1)\">\n       <use xlink:href=\"#DejaVuSans-50\"/>\n       <use x=\"63.623047\" xlink:href=\"#DejaVuSans-53\"/>\n       <use x=\"127.246094\" xlink:href=\"#DejaVuSans-48\"/>\n      </g>\n     </g>\n    </g>\n    <g id=\"text_16\">\n     <!-- Average Return -->\n     <g transform=\"translate(14.798438 158.4325)rotate(-90)scale(0.1 -0.1)\">\n      <defs>\n       <path d=\"M 34.1875 63.1875 \nL 20.796875 26.90625 \nL 47.609375 26.90625 \nz\nM 28.609375 72.90625 \nL 39.796875 72.90625 \nL 67.578125 0 \nL 57.328125 0 \nL 50.6875 18.703125 \nL 17.828125 18.703125 \nL 11.1875 0 \nL 0.78125 0 \nz\n\" id=\"DejaVuSans-65\"/>\n       <path d=\"M 2.984375 54.6875 \nL 12.5 54.6875 \nL 29.59375 8.796875 \nL 46.6875 54.6875 \nL 56.203125 54.6875 \nL 35.6875 0 \nL 23.484375 0 \nz\n\" id=\"DejaVuSans-118\"/>\n       <path d=\"M 45.40625 27.984375 \nQ 45.40625 37.75 41.375 43.109375 \nQ 37.359375 48.484375 30.078125 48.484375 \nQ 22.859375 48.484375 18.828125 43.109375 \nQ 14.796875 37.75 14.796875 27.984375 \nQ 14.796875 18.265625 18.828125 12.890625 \nQ 22.859375 7.515625 30.078125 7.515625 \nQ 37.359375 7.515625 41.375 12.890625 \nQ 45.40625 18.265625 45.40625 27.984375 \nz\nM 54.390625 6.78125 \nQ 54.390625 -7.171875 48.1875 -13.984375 \nQ 42 -20.796875 29.203125 -20.796875 \nQ 24.46875 -20.796875 20.265625 -20.09375 \nQ 16.0625 -19.390625 12.109375 -17.921875 \nL 12.109375 -9.1875 \nQ 16.0625 -11.328125 19.921875 -12.34375 \nQ 23.78125 -13.375 27.78125 -13.375 \nQ 36.625 -13.375 41.015625 -8.765625 \nQ 45.40625 -4.15625 45.40625 5.171875 \nL 45.40625 9.625 \nQ 42.625 4.78125 38.28125 2.390625 \nQ 33.9375 0 27.875 0 \nQ 17.828125 0 11.671875 7.65625 \nQ 5.515625 15.328125 5.515625 27.984375 \nQ 5.515625 40.671875 11.671875 48.328125 \nQ 17.828125 56 27.875 56 \nQ 33.9375 56 38.28125 53.609375 \nQ 42.625 51.21875 45.40625 46.390625 \nL 45.40625 54.6875 \nL 54.390625 54.6875 \nz\n\" id=\"DejaVuSans-103\"/>\n       <path id=\"DejaVuSans-32\"/>\n       <path d=\"M 44.390625 34.1875 \nQ 47.5625 33.109375 50.5625 29.59375 \nQ 53.5625 26.078125 56.59375 19.921875 \nL 66.609375 0 \nL 56 0 \nL 46.6875 18.703125 \nQ 43.0625 26.03125 39.671875 28.421875 \nQ 36.28125 30.8125 30.421875 30.8125 \nL 19.671875 30.8125 \nL 19.671875 0 \nL 9.8125 0 \nL 9.8125 72.90625 \nL 32.078125 72.90625 \nQ 44.578125 72.90625 50.734375 67.671875 \nQ 56.890625 62.453125 56.890625 51.90625 \nQ 56.890625 45.015625 53.6875 40.46875 \nQ 50.484375 35.9375 44.390625 34.1875 \nz\nM 19.671875 64.796875 \nL 19.671875 38.921875 \nL 32.078125 38.921875 \nQ 39.203125 38.921875 42.84375 42.21875 \nQ 46.484375 45.515625 46.484375 51.90625 \nQ 46.484375 58.296875 42.84375 61.546875 \nQ 39.203125 64.796875 32.078125 64.796875 \nz\n\" id=\"DejaVuSans-82\"/>\n       <path d=\"M 8.5 21.578125 \nL 8.5 54.6875 \nL 17.484375 54.6875 \nL 17.484375 21.921875 \nQ 17.484375 14.15625 20.5 10.265625 \nQ 23.53125 6.390625 29.59375 6.390625 \nQ 36.859375 6.390625 41.078125 11.03125 \nQ 45.3125 15.671875 45.3125 23.6875 \nL 45.3125 54.6875 \nL 54.296875 54.6875 \nL 54.296875 0 \nL 45.3125 0 \nL 45.3125 8.40625 \nQ 42.046875 3.421875 37.71875 1 \nQ 33.40625 -1.421875 27.6875 -1.421875 \nQ 18.265625 -1.421875 13.375 4.4375 \nQ 8.5 10.296875 8.5 21.578125 \nz\nM 31.109375 56 \nz\n\" id=\"DejaVuSans-117\"/>\n      </defs>\n      <use xlink:href=\"#DejaVuSans-65\"/>\n      <use x=\"62.533203\" xlink:href=\"#DejaVuSans-118\"/>\n      <use x=\"121.712891\" xlink:href=\"#DejaVuSans-101\"/>\n      <use x=\"183.236328\" xlink:href=\"#DejaVuSans-114\"/>\n      <use x=\"224.349609\" xlink:href=\"#DejaVuSans-97\"/>\n      <use x=\"285.628906\" xlink:href=\"#DejaVuSans-103\"/>\n      <use x=\"349.105469\" xlink:href=\"#DejaVuSans-101\"/>\n      <use x=\"410.628906\" xlink:href=\"#DejaVuSans-32\"/>\n      <use x=\"442.416016\" xlink:href=\"#DejaVuSans-82\"/>\n      <use x=\"507.398438\" xlink:href=\"#DejaVuSans-101\"/>\n      <use x=\"568.921875\" xlink:href=\"#DejaVuSans-116\"/>\n      <use x=\"608.130859\" xlink:href=\"#DejaVuSans-117\"/>\n      <use x=\"671.509766\" xlink:href=\"#DejaVuSans-114\"/>\n      <use x=\"710.873047\" xlink:href=\"#DejaVuSans-110\"/>\n     </g>\n    </g>\n   </g>\n   <g id=\"line2d_15\">\n    <path clip-path=\"url(#pe04cb37a51)\" d=\"M 62.183807 220.289849 \nL 77.401989 201.027703 \nL 92.62017 206.676697 \nL 107.838352 187.414551 \nL 123.056534 160.373463 \nL 138.274716 134.073224 \nL 153.492898 154.168826 \nL 168.71108 83.32488 \nL 183.929261 59.247197 \nL 199.147443 69.433909 \nL 214.365625 57.487666 \nL 229.583807 57.302456 \nL 244.801989 62.395812 \nL 260.02017 57.302456 \nL 275.238352 57.765488 \nL 290.456534 57.302456 \nL 305.674716 57.302456 \nL 320.892898 57.302456 \nL 336.11108 57.302456 \nL 351.329261 57.302456 \nL 366.547443 57.302456 \n\" style=\"fill:none;stroke:#1f77b4;stroke-linecap:square;stroke-width:1.5;\"/>\n   </g>\n   <g id=\"patch_3\">\n    <path d=\"M 46.965625 228.439219 \nL 46.965625 10.999219 \n\" style=\"fill:none;stroke:#000000;stroke-linecap:square;stroke-linejoin:miter;stroke-width:0.8;\"/>\n   </g>\n   <g id=\"patch_4\">\n    <path d=\"M 381.765625 228.439219 \nL 381.765625 10.999219 \n\" style=\"fill:none;stroke:#000000;stroke-linecap:square;stroke-linejoin:miter;stroke-width:0.8;\"/>\n   </g>\n   <g id=\"patch_5\">\n    <path d=\"M 46.965625 228.439219 \nL 381.765625 228.439219 \n\" style=\"fill:none;stroke:#000000;stroke-linecap:square;stroke-linejoin:miter;stroke-width:0.8;\"/>\n   </g>\n   <g id=\"patch_6\">\n    <path d=\"M 46.965625 10.999219 \nL 381.765625 10.999219 \n\" style=\"fill:none;stroke:#000000;stroke-linecap:square;stroke-linejoin:miter;stroke-width:0.8;\"/>\n   </g>\n  </g>\n </g>\n <defs>\n  <clipPath id=\"pe04cb37a51\">\n   <rect height=\"217.44\" width=\"334.8\" x=\"46.965625\" y=\"10.999219\"/>\n  </clipPath>\n </defs>\n</svg>\n",
      "image/png": "[encoded data removed]"
     },
     "metadata": {
      "needs_background": "light"
     }
    }
   ],
   "source": [
    "#@test {\"skip\": true}\n",
    "\n",
    "iterations = range(0, num_iterations + 1, eval_interval)\n",
    "plt.plot(iterations, returns)\n",
    "plt.ylabel('Average Return')\n",
    "plt.xlabel('Iterations')\n",
    "plt.ylim(top=250)"
   ]
  },
  {
   "cell_type": "markdown",
   "metadata": {
    "colab_type": "text",
    "id": "M7-XpPP99Cy7"
   },
   "source": [
    "### Videos"
   ]
  },
  {
   "cell_type": "markdown",
   "metadata": {
    "colab_type": "text",
    "id": "9pGfGxSH32gn"
   },
   "source": [
    "Charts are nice. But more exciting is seeing an agent actually performing a task in an environment. \n",
    "\n",
    "First, create a function to embed videos in the notebook."
   ]
  },
  {
   "cell_type": "code",
   "execution_count": 32,
   "metadata": {
    "colab": {},
    "colab_type": "code",
    "execution": {
     "iopub.execute_input": "2021-01-06T12:46:25.849837Z",
     "iopub.status.busy": "2021-01-06T12:46:25.848657Z",
     "iopub.status.idle": "2021-01-06T12:46:25.851586Z",
     "shell.execute_reply": "2021-01-06T12:46:25.851000Z"
    },
    "id": "ULaGr8pvOKbl"
   },
   "outputs": [],
   "source": [
    "def embed_mp4(filename):\n",
    "  \"\"\"Embeds an mp4 file in the notebook.\"\"\"\n",
    "  video = open(filename,'rb').read()\n",
    "  b64 = base64.b64encode(video)\n",
    "  tag = '''\n",
    "  <video width=\"640\" height=\"480\" controls>\n",
    "    <source src=\"data:video/mp4;base64,{0}\" type=\"video/mp4\">\n",
    "  Your browser does not support the video tag.\n",
    "  </video>'''.format(b64.decode())\n",
    "\n",
    "  return IPython.display.HTML(tag)"
   ]
  },
  {
   "cell_type": "markdown",
   "metadata": {
    "colab_type": "text",
    "id": "9c_PH-pX4Pr5"
   },
   "source": [
    "Now iterate through a few episodes of the Cartpole game with the agent. The underlying Python environment (the one \"inside\" the TensorFlow environment wrapper) provides a `render()` method, which outputs an image of the environment state. These can be collected into a video."
   ]
  },
  {
   "cell_type": "code",
   "execution_count": 33,
   "metadata": {
    "colab": {},
    "colab_type": "code",
    "execution": {
     "iopub.execute_input": "2021-01-06T12:46:25.859415Z",
     "iopub.status.busy": "2021-01-06T12:46:25.858462Z",
     "iopub.status.idle": "2021-01-06T12:46:37.181522Z",
     "shell.execute_reply": "2021-01-06T12:46:37.181977Z"
    },
    "id": "owOVWB158NlF"
   },
   "outputs": [
    {
     "output_type": "stream",
     "name": "stderr",
     "text": [
      "WARNING:root:IMAGEIO FFMPEG_WRITER WARNING: input image is not divisible by macro_block_size=16, resizing from (400, 600) to (400, 608) to ensure video compatibility with most codecs and players. To prevent resizing, make your input image divisible by the macro_block_size or set the macro_block_size to None (risking incompatibility). You may also see a FFMPEG warning concerning speedloss due to data not being aligned.\n"
     ]
    },
    {
     "output_type": "execute_result",
     "data": {
      "text/plain": [
       "<IPython.core.display.HTML object>"
      ],
      "text/html": "\n  <video width=\"640\" height=\"480\" controls>\n    <source src=\"data:video/mp4;base64,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\" type=\"video/mp4\">\n  Your browser does not support the video tag.\n  </video>"
     },
     "metadata": {},
     "execution_count": 33
    }
   ],
   "source": [
    "def create_policy_eval_video(policy, filename, num_episodes=5, fps=30):\n",
    "  filename = filename + \".mp4\"\n",
    "  with imageio.get_writer(filename, fps=fps) as video:\n",
    "    for _ in range(num_episodes):\n",
    "      time_step = eval_env.reset()\n",
    "      video.append_data(eval_py_env.render())\n",
    "      while not time_step.is_last():\n",
    "        action_step = policy.action(time_step)\n",
    "        time_step = eval_env.step(action_step.action)\n",
    "        video.append_data(eval_py_env.render())\n",
    "  return embed_mp4(filename)\n",
    "\n",
    "\n",
    "# ---------------------------------------------------------\n",
    "create_policy_eval_video(agent.policy, \"trained-agent\")"
   ]
  },
  {
   "cell_type": "markdown",
   "metadata": {
    "colab_type": "text",
    "id": "povaAOcZygLw"
   },
   "source": [
    "For fun, compare the trained agent (above) to an agent moving randomly. (It does not do as well.)"
   ]
  },
  {
   "cell_type": "code",
   "execution_count": 34,
   "metadata": {
    "colab": {},
    "colab_type": "code",
    "execution": {
     "iopub.execute_input": "2021-01-06T12:46:37.187733Z",
     "iopub.status.busy": "2021-01-06T12:46:37.187047Z",
     "iopub.status.idle": "2021-01-06T12:46:38.381971Z",
     "shell.execute_reply": "2021-01-06T12:46:38.381399Z"
    },
    "id": "pJZIdC37yNH4"
   },
   "outputs": [
    {
     "output_type": "stream",
     "name": "stderr",
     "text": [
      "WARNING:root:IMAGEIO FFMPEG_WRITER WARNING: input image is not divisible by macro_block_size=16, resizing from (400, 600) to (400, 608) to ensure video compatibility with most codecs and players. To prevent resizing, make your input image divisible by the macro_block_size or set the macro_block_size to None (risking incompatibility). You may also see a FFMPEG warning concerning speedloss due to data not being aligned.\n"
     ]
    },
    {
     "output_type": "execute_result",
     "data": {
      "text/plain": [
       "<IPython.core.display.HTML object>"
      ],
      "text/html": "\n  <video width=\"640\" height=\"480\" controls>\n    <source src=\"data:video/mp4;base64,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\" type=\"video/mp4\">\n  Your browser does not support the video tag.\n  </video>"
     },
     "metadata": {},
     "execution_count": 34
    }
   ],
   "source": [
    "create_policy_eval_video(random_policy, \"random-agent\")"
   ]
  },
  {
   "cell_type": "code",
   "execution_count": null,
   "metadata": {},
   "outputs": [],
   "source": []
  }
 ],
 "metadata": {
  "colab": {
   "collapsed_sections": [],
   "name": "DQN Tutorial.ipynb",
   "private_outputs": true,
   "provenance": [],
   "toc_visible": true
  },
  "kernelspec": {
   "name": "python3",
   "display_name": "Python 3.7.3 64-bit ('venv': venv)",
   "metadata": {
    "interpreter": {
     "hash": "07e12e195b3d0bb83c199f99dc82f35b1a8e42d8dcdc4c9f8011c2b5fcd97f05"
    }
   }
  },
  "language_info": {
   "codemirror_mode": {
    "name": "ipython",
    "version": 3
   },
   "file_extension": ".py",
   "mimetype": "text/x-python",
   "name": "python",
   "nbconvert_exporter": "python",
   "pygments_lexer": "ipython3",
   "version": "3.7.3-final"
  },
  "pycharm": {
   "stem_cell": {
    "cell_type": "raw",
    "metadata": {
     "collapsed": false
    },
    "source": []
   }
  }
 },
 "nbformat": 4,
 "nbformat_minor": 0
}